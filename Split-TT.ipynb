{
 "cells": [
  {
   "cell_type": "code",
   "execution_count": 1,
   "metadata": {},
   "outputs": [],
   "source": [
    "import numpy as np\n",
    "import pandas as pd\n",
    "from tqdm import tqdm\n",
    "from sklearn.model_selection import train_test_split\n",
    "import os.path\n",
    "import matplotlib.pyplot as plt\n",
    "import warnings\n",
    "warnings.simplefilter(action='ignore', category=FutureWarning)\n",
    "tqdm.pandas()"
   ]
  },
  {
   "cell_type": "markdown",
   "metadata": {},
   "source": [
    "# DatasetLoad"
   ]
  },
  {
   "cell_type": "markdown",
   "metadata": {},
   "source": [
    "Model Param"
   ]
  },
  {
   "cell_type": "code",
   "execution_count": 2,
   "metadata": {},
   "outputs": [],
   "source": [
    "test_dim = 0.2"
   ]
  },
  {
   "cell_type": "code",
   "execution_count": 3,
   "metadata": {},
   "outputs": [],
   "source": [
    "path = \"ProcDocs/\"\n",
    "path_cl = \"ProcDocs\"+\"/Split_\"+str(test_dim)\n",
    "docs = path +\"all_docs_1.csv\"\n",
    "queries = path +\"dev_queries_1.csv\"\n",
    "save_docs_test = path_cl +\"/docs_test.csv\"\n",
    "save_docs_train = path_cl +\"/docs_train.csv\"\n",
    "save_queries_test = path_cl +\"/queries_test.csv\"\n",
    "save_queries_train = path_cl +\"/queries_train.csv\""
   ]
  },
  {
   "cell_type": "code",
   "execution_count": 4,
   "metadata": {},
   "outputs": [],
   "source": [
    "docs_df = pd.read_csv(docs)"
   ]
  },
  {
   "cell_type": "code",
   "execution_count": 5,
   "metadata": {},
   "outputs": [],
   "source": [
    "queries_df = pd.read_csv(queries)"
   ]
  },
  {
   "cell_type": "code",
   "execution_count": 6,
   "metadata": {},
   "outputs": [],
   "source": [
    "g_thruth = pd.read_csv('Docs/dev_data.csv')"
   ]
  },
  {
   "cell_type": "markdown",
   "metadata": {},
   "source": [
    "# Split"
   ]
  },
  {
   "cell_type": "code",
   "execution_count": 7,
   "metadata": {},
   "outputs": [],
   "source": [
    "queries_df_train, queries_df_test = train_test_split(queries_df, test_size = test_dim, random_state = 543) #Splits the query"
   ]
  },
  {
   "cell_type": "code",
   "execution_count": 8,
   "metadata": {},
   "outputs": [],
   "source": [
    "list_docs_train = list(g_thruth.doc_number.unique()) #Select all documents a train documents #list(g_thruth[g_thruth.Query_number.isin(list(queries_df_train.Query_number))]['doc_number'])\n",
    "list_docs_test = list(g_thruth[g_thruth.Query_number.isin(list(queries_df_test.Query_number))]['doc_number']) #Select only test documents"
   ]
  },
  {
   "cell_type": "code",
   "execution_count": 9,
   "metadata": {},
   "outputs": [],
   "source": [
    "docs_df_train = docs_df[docs_df.doc_number.isin(list_docs_train)].reset_index(drop=True)\n",
    "docs_df_test = docs_df[docs_df.doc_number.isin(list_docs_test)].reset_index(drop=True)"
   ]
  },
  {
   "cell_type": "code",
   "execution_count": 11,
   "metadata": {},
   "outputs": [],
   "source": [
    "queries_df_train.to_csv(save_queries_train, index= False)\n",
    "queries_df_test.to_csv(save_queries_test, index= False)\n",
    "docs_df_train.to_csv(save_docs_train, index= False)\n",
    "docs_df_test.to_csv(save_docs_test, index= False)"
   ]
  },
  {
   "cell_type": "code",
   "execution_count": null,
   "metadata": {},
   "outputs": [],
   "source": []
  }
 ],
 "metadata": {
  "interpreter": {
   "hash": "19649b6d477f04954267d7dfcc1e3219afd53992c8847ec6a09d5cd5145b7914"
  },
  "kernelspec": {
   "display_name": "Python 3.8.3 64-bit ('base': conda)",
   "language": "python",
   "name": "python3"
  },
  "language_info": {
   "codemirror_mode": {
    "name": "ipython",
    "version": 3
   },
   "file_extension": ".py",
   "mimetype": "text/x-python",
   "name": "python",
   "nbconvert_exporter": "python",
   "pygments_lexer": "ipython3",
   "version": "3.8.3"
  },
  "orig_nbformat": 4
 },
 "nbformat": 4,
 "nbformat_minor": 2
}
